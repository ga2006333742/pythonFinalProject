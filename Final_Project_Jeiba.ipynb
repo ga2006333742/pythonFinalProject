{
 "cells": [
  {
   "cell_type": "code",
   "execution_count": null,
   "metadata": {
    "collapsed": false
   },
   "outputs": [],
   "source": [
    "import csv\n",
    "import re\n",
    "import jieba\n",
    "from sklearn.feature_extraction.text import CountVectorizer\n",
    "import lda\n",
    "import numpy as np\n",
    "from pylab import *\n",
    "\n",
    "\n",
    "corpus = []\n",
    "jieba.set_dictionary('dict.txt.big')\n",
    "\n",
    "with open('Output.csv', newline='',encoding='UTF-8') as csvfile:\n",
    "    \n",
    "    rows = csv.reader(csvfile)\n",
    "    \n",
    "    for row in rows:\n",
    "        reHTTPS=re.compile(r'https://[a-zA-Z0-9.?/&=:]*',re.S)\n",
    "        noHTTPS=reHTTPS.sub(\"\",row[2])\n",
    "        \n",
    "        reHTTP=re.compile(r'http://[a-zA-Z0-9.?/&=:]*',re.S)\n",
    "        noHTTP=reHTTP.sub(\"\",noHTTPS)\n",
    "        \n",
    "        fn = noHTTP.replace(r\"\\u3000\", \"\").replace(r\"\\n\",\"\").replace(\"#\",\"\")\n",
    "\n",
    "        corpus.append(\" \".join(jieba.cut(fn.split(',')[0], cut_all=False)))\n",
    "        \n",
    "#print(corpus)"
   ]
  },
  {
   "cell_type": "code",
   "execution_count": null,
   "metadata": {
    "collapsed": true
   },
   "outputs": [],
   "source": [
    "def get_lda_input(chapters):\n",
    "    vectorizer = CountVectorizer()\n",
    "    X = vectorizer.fit_transform(corpus)\n",
    "    return X.toarray(), vectorizer\n",
    "\n",
    "def lda_train(weight, vectorizer):\n",
    "    model = lda.LDA(n_topics=5, n_iter=500, random_state=1)\n",
    "    model.fit(weight)\n",
    "\n",
    "    doc_num = len(weight)\n",
    "    topic_word = model.topic_word_\n",
    "    vocab = vectorizer.get_feature_names()\n",
    "    titles = [\"第{}章\".format(i) for i in range(1, doc_num + 1)]\n",
    "\n",
    "    n_top_words = 10000\n",
    "    for i, topic_dist in enumerate(topic_word):\n",
    "        topic_words = np.array(vocab)[np.argsort(topic_dist)][:-(n_top_words + 1):-1]\n",
    "        #print('Topic {}: {}'.format(i, ' '.join(topic_words)))\n",
    "        with open('Topic{}.txt'.format(i),'a',encoding='UTF-8') as Topics:\n",
    "            Topics.write(' '.join(topic_words))"
   ]
  },
  {
   "cell_type": "code",
   "execution_count": null,
   "metadata": {
    "collapsed": false
   },
   "outputs": [],
   "source": [
    "weight, vectorizer = get_lda_input(corpus)\n",
    "lda_train(weight, vectorizer)"
   ]
  },
  {
   "cell_type": "code",
   "execution_count": null,
   "metadata": {
    "collapsed": true
   },
   "outputs": [],
   "source": []
  }
 ],
 "metadata": {
  "kernelspec": {
   "display_name": "Python 3",
   "language": "python",
   "name": "python3"
  },
  "language_info": {
   "codemirror_mode": {
    "name": "ipython",
    "version": 3
   },
   "file_extension": ".py",
   "mimetype": "text/x-python",
   "name": "python",
   "nbconvert_exporter": "python",
   "pygments_lexer": "ipython3",
   "version": "3.6.0"
  }
 },
 "nbformat": 4,
 "nbformat_minor": 2
}

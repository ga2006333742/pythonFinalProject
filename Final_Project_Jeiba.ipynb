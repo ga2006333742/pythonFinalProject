{
 "cells": [
  {
   "cell_type": "code",
   "execution_count": 1,
   "metadata": {
    "collapsed": false
   },
   "outputs": [
    {
     "name": "stderr",
     "output_type": "stream",
     "text": [
      "Building prefix dict from C:\\Users\\Leo\\Documents\\dict.txt.big ...\n",
      "Loading model from cache C:\\Users\\Leo\\AppData\\Local\\Temp\\jieba.uee93d16b7146edfccd4cb1025459943e.cache\n",
      "Loading model cost 1.246 seconds.\n",
      "Prefix dict has been built succesfully.\n"
     ]
    }
   ],
   "source": [
    "import csv\n",
    "import re\n",
    "import jieba\n",
    "from sklearn.feature_extraction.text import CountVectorizer\n",
    "import lda\n",
    "import numpy as np\n",
    "from pylab import *\n",
    "\n",
    "\n",
    "corpus = []\n",
    "jieba.set_dictionary('dict.txt.big')\n",
    "\n",
    "with open('Output.csv', newline='',encoding='UTF-8') as csvfile:\n",
    "    \n",
    "    rows = csv.reader(csvfile)\n",
    "    \n",
    "    for row in rows:\n",
    "        reHTTPS=re.compile(r'https://[a-zA-Z0-9.?/&=:]*',re.S)\n",
    "        noHTTPS=reHTTPS.sub(\"\",row[2])\n",
    "        \n",
    "        reHTTP=re.compile(r'http://[a-zA-Z0-9.?/&=:]*',re.S)\n",
    "        noHTTP=reHTTP.sub(\"\",noHTTPS)\n",
    "        \n",
    "        fn = noHTTP.replace(r\"\\u3000\", \"\").replace(r\"\\n\",\"\").replace(\"#\",\"\")\n",
    "\n",
    "        corpus.append(\" \".join(jieba.cut(fn.split(',')[0], cut_all=False)))\n",
    "        \n",
    "#print(corpus)"
   ]
  },
  {
   "cell_type": "code",
   "execution_count": 2,
   "metadata": {
    "collapsed": true
   },
   "outputs": [],
   "source": [
    "def get_lda_input(chapters):\n",
    "    vectorizer = CountVectorizer()\n",
    "    X = vectorizer.fit_transform(corpus)\n",
    "    return X.toarray(), vectorizer\n",
    "\n",
    "def lda_train(weight, vectorizer):\n",
    "    model = lda.LDA(n_topics=5, n_iter=500, random_state=1)\n",
    "    model.fit(weight)\n",
    "\n",
    "    doc_num = len(weight)\n",
    "    topic_word = model.topic_word_\n",
    "    vocab = vectorizer.get_feature_names()\n",
    "    titles = [\"第{}章\".format(i) for i in range(1, doc_num + 1)]\n",
    "\n",
    "    n_top_words = 10000\n",
    "    for i, topic_dist in enumerate(topic_word):\n",
    "        topic_words = np.array(vocab)[np.argsort(topic_dist)][:-(n_top_words + 1):-1]\n",
    "        #print('Topic {}: {}'.format(i, ' '.join(topic_words)))\n",
    "        with open('Topic{}.txt'.format(i),'a',encoding='UTF-8') as Topics:\n",
    "            Topics.write(' '.join(topic_words))"
   ]
  },
  {
   "cell_type": "code",
   "execution_count": 3,
   "metadata": {
    "collapsed": false
   },
   "outputs": [
    {
     "name": "stderr",
     "output_type": "stream",
     "text": [
      "INFO:lda:n_documents: 103\n",
      "INFO:lda:vocab_size: 1116\n",
      "INFO:lda:n_words: 2221\n",
      "INFO:lda:n_topics: 5\n",
      "INFO:lda:n_iter: 500\n",
      "WARNING:lda:all zero row in document-term matrix found\n",
      "INFO:lda:<0> log likelihood: -23387\n",
      "INFO:lda:<10> log likelihood: -18456\n",
      "INFO:lda:<20> log likelihood: -17939\n",
      "INFO:lda:<30> log likelihood: -17857\n",
      "INFO:lda:<40> log likelihood: -17544\n",
      "INFO:lda:<50> log likelihood: -17346\n",
      "INFO:lda:<60> log likelihood: -17236\n",
      "INFO:lda:<70> log likelihood: -17197\n",
      "INFO:lda:<80> log likelihood: -17152\n",
      "INFO:lda:<90> log likelihood: -17182\n",
      "INFO:lda:<100> log likelihood: -17168\n",
      "INFO:lda:<110> log likelihood: -17202\n",
      "INFO:lda:<120> log likelihood: -17092\n",
      "INFO:lda:<130> log likelihood: -17150\n",
      "INFO:lda:<140> log likelihood: -17140\n",
      "INFO:lda:<150> log likelihood: -17018\n",
      "INFO:lda:<160> log likelihood: -17078\n",
      "INFO:lda:<170> log likelihood: -17067\n",
      "INFO:lda:<180> log likelihood: -16997\n",
      "INFO:lda:<190> log likelihood: -17005\n",
      "INFO:lda:<200> log likelihood: -16977\n",
      "INFO:lda:<210> log likelihood: -16943\n",
      "INFO:lda:<220> log likelihood: -16984\n",
      "INFO:lda:<230> log likelihood: -16993\n",
      "INFO:lda:<240> log likelihood: -16975\n",
      "INFO:lda:<250> log likelihood: -17017\n",
      "INFO:lda:<260> log likelihood: -16983\n",
      "INFO:lda:<270> log likelihood: -16894\n",
      "INFO:lda:<280> log likelihood: -16989\n",
      "INFO:lda:<290> log likelihood: -16984\n",
      "INFO:lda:<300> log likelihood: -16938\n",
      "INFO:lda:<310> log likelihood: -16938\n",
      "INFO:lda:<320> log likelihood: -16933\n",
      "INFO:lda:<330> log likelihood: -16888\n",
      "INFO:lda:<340> log likelihood: -16889\n",
      "INFO:lda:<350> log likelihood: -16879\n",
      "INFO:lda:<360> log likelihood: -16957\n",
      "INFO:lda:<370> log likelihood: -16915\n",
      "INFO:lda:<380> log likelihood: -16986\n",
      "INFO:lda:<390> log likelihood: -16914\n",
      "INFO:lda:<400> log likelihood: -16898\n",
      "INFO:lda:<410> log likelihood: -16916\n",
      "INFO:lda:<420> log likelihood: -16896\n",
      "INFO:lda:<430> log likelihood: -16909\n",
      "INFO:lda:<440> log likelihood: -16882\n",
      "INFO:lda:<450> log likelihood: -16880\n",
      "INFO:lda:<460> log likelihood: -16917\n",
      "INFO:lda:<470> log likelihood: -16916\n",
      "INFO:lda:<480> log likelihood: -16982\n",
      "INFO:lda:<490> log likelihood: -16969\n",
      "INFO:lda:<499> log likelihood: -16894\n"
     ]
    }
   ],
   "source": [
    "weight, vectorizer = get_lda_input(corpus)\n",
    "lda_train(weight, vectorizer)"
   ]
  },
  {
   "cell_type": "code",
   "execution_count": null,
   "metadata": {
    "collapsed": true
   },
   "outputs": [],
   "source": []
  }
 ],
 "metadata": {
  "kernelspec": {
   "display_name": "Python 3",
   "language": "python",
   "name": "python3"
  },
  "language_info": {
   "codemirror_mode": {
    "name": "ipython",
    "version": 3
   },
   "file_extension": ".py",
   "mimetype": "text/x-python",
   "name": "python",
   "nbconvert_exporter": "python",
   "pygments_lexer": "ipython3",
   "version": "3.6.0"
  }
 },
 "nbformat": 4,
 "nbformat_minor": 2
}

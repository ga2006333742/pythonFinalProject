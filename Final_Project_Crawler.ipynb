{
 "cells": [
  {
   "cell_type": "code",
   "execution_count": 1,
   "metadata": {
    "collapsed": true
   },
   "outputs": [],
   "source": [
    "import facebook\n",
    "import requests\n",
    "import json\n",
    "import csv\n",
    "from kafka import KafkaClient\n",
    "from kafka import SimpleProducer\n",
    "import sys"
   ]
  },
  {
   "cell_type": "code",
   "execution_count": 2,
   "metadata": {
    "collapsed": false
   },
   "outputs": [],
   "source": [
    "kafka = KafkaClient('localhost:9092')\n",
    "producer = SimpleProducer(kafka, async=True)\n",
    "topic_name = \"final\""
   ]
  },
  {
   "cell_type": "code",
   "execution_count": 3,
   "metadata": {
    "collapsed": true
   },
   "outputs": [],
   "source": [
    "def get_all_posts(fanpageID):\n",
    "    \"\"\"Get all posts in fanpage and write each column in dicts.\n",
    "       Returns:\n",
    "            postID_list:\n",
    "            fanpageName_list:\n",
    "            content_list:\n",
    "            createTime_list:\n",
    "    \"\"\"\n",
    "    all_posts = graph.get_connections(id = fanpageID, connection_name = 'posts', summary='true', limit = 100)\n",
    "    fanpageName = graph.get_object(id = fanpageID, fields = 'name')['name']\n",
    "    postID_list = []\n",
    "    fanpageName_list = []\n",
    "    content_list = []\n",
    "    createTime_list = []\n",
    "\n",
    "    for i in range(0,99):\n",
    "        postID_list.append(all_posts['data'][i]['id'])\n",
    "        fanpageName_list.append(fanpageName)\n",
    "        try:\n",
    "            content_list.append(all_posts['data'][i]['message'])\n",
    "        except:\n",
    "            content_list.append('')\n",
    "        createTime_list.append(all_posts['data'][i]['created_time'])\n",
    "\n",
    "    return postID_list, fanpageName_list, content_list, createTime_list"
   ]
  },
  {
   "cell_type": "code",
   "execution_count": 4,
   "metadata": {
    "collapsed": true
   },
   "outputs": [],
   "source": [
    "def get_activation(postID_list):\n",
    "    \"\"\"Get likes and comments in each post and write total counts in dicts.\n",
    "       Returns:\n",
    "            postLikesCount_list:\n",
    "            postCommentsCount_list:\n",
    "    \"\"\"\n",
    "    url = 'https://graph.facebook.com/v3.0/'+ fanpageID +'?fields=posts.limits(100){likes,comments,shares}&access_token=' + token\n",
    "    response = requests.get(url)\n",
    "    html = json.loads(response.text)\n",
    "\n",
    "    postLikesCount_list = []\n",
    "    postCommentsCount_list = []\n",
    "    postSharesCount_list = []\n",
    "    for i in postID_list:\n",
    "        postLikesCount = graph.get_connections(id = i, connection_name = 'likes', summary='true')\n",
    "        postCommentsCount = graph.get_connections(id = i, connection_name = 'comments', summary='true')\n",
    "        postLikesCount_list.append(postLikesCount['summary']['total_count'])\n",
    "        postCommentsCount_list.append(postCommentsCount['summary']['total_count'])\n",
    "        \n",
    "    for i in range(100):\n",
    "        try:\n",
    "            postSharesCount = html['posts']['data'][i]['shares']['count']           \n",
    "        except:\n",
    "            postSharesCount = 0\n",
    "        postSharesCount_list.append(postSharesCount)    \n",
    "    return postLikesCount_list, postCommentsCount_list, postSharesCount_list"
   ]
  },
  {
   "cell_type": "code",
   "execution_count": 5,
   "metadata": {
    "collapsed": false
   },
   "outputs": [],
   "source": [
    "def write_file(write_list_1, write_list_2, write_list_3, write_list_4, write_list_5, write_list_6, write_list_7):\n",
    "    \"\"\"Write file for list.\n",
    "    Args:\n",
    "    filename(str): write out file name.\n",
    "        write_list(list): list to write out.\n",
    "    \"\"\"\n",
    "    lists = write_list_1, write_list_2, write_list_3, write_list_4, write_list_5, write_list_6, write_list_7\n",
    "    for i in range(0,99):\n",
    "        write_out = [li[i] for li in lists]\n",
    "        str1 = ''.join(str(write_out))\n",
    "        producer.send_messages(topic_name,str1.encode('UTF-8'))"
   ]
  },
  {
   "cell_type": "code",
   "execution_count": 6,
   "metadata": {
    "collapsed": false
   },
   "outputs": [],
   "source": [
    "if __name__ == '__main__':\n",
    "    token = 'EAACEdEose0cBACZArDykZB19FJO7blBZBJKN98j12KH3ZBHrNNIDbd7Jl25IIN3O1uJXuRYe9PmlVFfVziNdH60vgoKDRMovwIqkllXhzWfC1lp3ZBW5lRBtdPChoUjmgyDVGFYgqqU9juHv0pnJXjCj52H9yzax4zNdvwWQlvUTwZAaj0hWMiElYmAQ9KLm4NqvywgaCVEQZDZD' #貼上token\n",
    "    graph = facebook.GraphAPI(access_token = token)\n",
    "    fanpageID = '1021581417961885'\n",
    "\n",
    "    postID_list, fanpageName_list, content_list, createTime_list = get_all_posts(fanpageID)\n",
    "    postLikesCount_list, postCommentsCount_list, postSharesCount_list = get_activation(postID_list)\n",
    "    write_file(postID_list, fanpageName_list, content_list, createTime_list, postLikesCount_list, postCommentsCount_list, postSharesCount_list)"
   ]
  },
  {
   "cell_type": "code",
   "execution_count": null,
   "metadata": {
    "collapsed": true
   },
   "outputs": [],
   "source": []
  }
 ],
 "metadata": {
  "kernelspec": {
   "display_name": "Python 3",
   "language": "python",
   "name": "python3"
  },
  "language_info": {
   "codemirror_mode": {
    "name": "ipython",
    "version": 3
   },
   "file_extension": ".py",
   "mimetype": "text/x-python",
   "name": "python",
   "nbconvert_exporter": "python",
   "pygments_lexer": "ipython3",
   "version": "3.6.0"
  }
 },
 "nbformat": 4,
 "nbformat_minor": 2
}

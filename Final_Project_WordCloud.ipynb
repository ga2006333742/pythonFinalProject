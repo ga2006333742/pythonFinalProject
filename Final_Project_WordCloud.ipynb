{
 "cells": [
  {
   "cell_type": "code",
   "execution_count": null,
   "metadata": {
    "collapsed": false,
    "scrolled": false
   },
   "outputs": [],
   "source": [
    "from os import path\n",
    "from PIL import Image\n",
    "import numpy as np\n",
    "import matplotlib.pyplot as plt\n",
    "\n",
    "from wordcloud import WordCloud, STOPWORDS\n",
    "\n",
    "\n",
    "\n",
    "# Read the whole text.\n",
    "text0 = open('Topic0.txt',encoding=\"UTF-8\").read()\n",
    "text1 = open('Topic1.txt',encoding=\"UTF-8\").read()\n",
    "text2 = open('Topic2.txt',encoding=\"UTF-8\").read()\n",
    "text3 = open('Topic3.txt',encoding=\"UTF-8\").read()\n",
    "text4 = open('Topic4.txt',encoding=\"UTF-8\").read()\n",
    "\n",
    "stopwords = set(STOPWORDS)\n",
    "stopwords.add(\"said\")\n",
    "\n",
    "wc = WordCloud(background_color=\"black\", max_words=2000, font_path='msjh.ttf')\n",
    "\n",
    "wc.generate(text0)\n",
    "wc.to_file(\"FinalResult1.png\")\n",
    "plt.subplot(1,5,1)\n",
    "plt.imshow(wc, interpolation='bilinear')\n",
    "plt.axis(\"off\")\n",
    "\n",
    "wc.generate(text1)\n",
    "wc.to_file(\"FinalResult2.png\")\n",
    "plt.subplot(1,5,2)\n",
    "plt.imshow(wc, interpolation='bilinear')\n",
    "plt.axis(\"off\")\n",
    "\n",
    "wc.generate(text2)\n",
    "wc.to_file(\"FinalResult3.png\")\n",
    "plt.subplot(1,5,3)\n",
    "plt.imshow(wc, interpolation='bilinear')\n",
    "plt.axis(\"off\")\n",
    "\n",
    "wc.generate(text3)\n",
    "wc.to_file(\"FinalResult4.png\")\n",
    "plt.subplot(1,5,4)\n",
    "plt.imshow(wc, interpolation='bilinear')\n",
    "plt.axis(\"off\")\n",
    "\n",
    "wc.generate(text4)\n",
    "wc.to_file(\"FinalResult5.png\")\n",
    "plt.subplot(1,5,5)\n",
    "plt.imshow(wc, interpolation='bilinear')\n",
    "plt.axis(\"off\")\n",
    "\n",
    "plt.show()"
   ]
  },
  {
   "cell_type": "code",
   "execution_count": null,
   "metadata": {
    "collapsed": true
   },
   "outputs": [],
   "source": []
  }
 ],
 "metadata": {
  "kernelspec": {
   "display_name": "Python 3",
   "language": "python",
   "name": "python3"
  },
  "language_info": {
   "codemirror_mode": {
    "name": "ipython",
    "version": 3
   },
   "file_extension": ".py",
   "mimetype": "text/x-python",
   "name": "python",
   "nbconvert_exporter": "python",
   "pygments_lexer": "ipython3",
   "version": "3.6.0"
  }
 },
 "nbformat": 4,
 "nbformat_minor": 2
}

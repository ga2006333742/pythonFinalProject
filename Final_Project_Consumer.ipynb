{
 "cells": [
  {
   "cell_type": "code",
   "execution_count": null,
   "metadata": {
    "collapsed": false,
    "scrolled": true
   },
   "outputs": [],
   "source": [
    "from kafka import SimpleConsumer, SimpleClient\n",
    "from kafka import KafkaConsumer\n",
    "from kafka import KafkaClient\n",
    "import csv\n",
    "\n",
    "\n",
    "group_name = \"my-group\"\n",
    "topic_name = \"final\"\n",
    "\n",
    "kafka = KafkaClient('localhost:9092')\n",
    "consumer = SimpleConsumer(kafka, group_name, topic_name)\n",
    "\n",
    "print (\"Created consumer for group: [%s] and topic: [%s]\" % (group_name, topic_name))\n",
    "print (\"Waiting for messages...\")\n",
    "\n",
    "for msg in consumer:\n",
    "    aaa = msg.message.value.decode('utf-8-sig')\n",
    "    ans = aaa.replace('[','').replace(']','').replace(\"'\",'').split(',')\n",
    "    with open('Output.csv', 'a', newline = '',encoding='UTF-8') as csvfile:\n",
    "        fieldnames= ['貼文編號','粉絲專頁','內文','發文時間','按讚次數','留言次數','分享次數']\n",
    "        writer = csv.DictWriter(csvfile, fieldnames=fieldnames)\n",
    "        writer.writerow({'貼文編號':ans[0],'粉絲專頁':ans[1],'內文':ans[2],'發文時間':ans[3],'按讚次數':ans[4],'留言次數':ans[5],'分享次數':ans[6]})\n",
    "    print (ans)"
   ]
  },
  {
   "cell_type": "code",
   "execution_count": null,
   "metadata": {
    "collapsed": true
   },
   "outputs": [],
   "source": []
  }
 ],
 "metadata": {
  "kernelspec": {
   "display_name": "Python 3",
   "language": "python",
   "name": "python3"
  },
  "language_info": {
   "codemirror_mode": {
    "name": "ipython",
    "version": 3
   },
   "file_extension": ".py",
   "mimetype": "text/x-python",
   "name": "python",
   "nbconvert_exporter": "python",
   "pygments_lexer": "ipython3",
   "version": "3.6.0"
  }
 },
 "nbformat": 4,
 "nbformat_minor": 2
}
